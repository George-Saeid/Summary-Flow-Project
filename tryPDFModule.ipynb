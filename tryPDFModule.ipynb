{
 "cells": [
  {
   "cell_type": "code",
   "execution_count": 1,
   "metadata": {},
   "outputs": [
    {
     "ename": "OSError",
     "evalue": "[Errno 22] Invalid argument: 'D:\\x03 UNI DOC\\x04 Fourth Year SC\\\\Graduation Project\\\\Books 301 -400\\\\A Christmas Carol.pdf'",
     "output_type": "error",
     "traceback": [
      "\u001b[1;31m---------------------------------------------------------------------------\u001b[0m",
      "\u001b[1;31mOSError\u001b[0m                                   Traceback (most recent call last)",
      "\u001b[1;32mp:\\GP\\tryPDFModule.ipynb Cell 1\u001b[0m line \u001b[0;36m2\n\u001b[0;32m     <a href='vscode-notebook-cell:/p%3A/GP/tryPDFModule.ipynb#W0sZmlsZQ%3D%3D?line=18'>19</a>\u001b[0m     \u001b[39mreturn\u001b[39;00m text\n\u001b[0;32m     <a href='vscode-notebook-cell:/p%3A/GP/tryPDFModule.ipynb#W0sZmlsZQ%3D%3D?line=20'>21</a>\u001b[0m \u001b[39m# Extract the text from the PDF file.\u001b[39;00m\n\u001b[1;32m---> <a href='vscode-notebook-cell:/p%3A/GP/tryPDFModule.ipynb#W0sZmlsZQ%3D%3D?line=21'>22</a>\u001b[0m extracted_text \u001b[39m=\u001b[39m extract_text_from_pdf(\u001b[39m'\u001b[39;49m\u001b[39mpath/to/pdf.pdf\u001b[39;49m\u001b[39m'\u001b[39;49m)\n\u001b[0;32m     <a href='vscode-notebook-cell:/p%3A/GP/tryPDFModule.ipynb#W0sZmlsZQ%3D%3D?line=23'>24</a>\u001b[0m \u001b[39m# Print the extracted text.\u001b[39;00m\n\u001b[0;32m     <a href='vscode-notebook-cell:/p%3A/GP/tryPDFModule.ipynb#W0sZmlsZQ%3D%3D?line=24'>25</a>\u001b[0m \u001b[39mprint\u001b[39m(extracted_text)\n",
      "\u001b[1;32mp:\\GP\\tryPDFModule.ipynb Cell 1\u001b[0m line \u001b[0;36m1\n\u001b[0;32m      <a href='vscode-notebook-cell:/p%3A/GP/tryPDFModule.ipynb#W0sZmlsZQ%3D%3D?line=3'>4</a>\u001b[0m \u001b[39m\u001b[39m\u001b[39m\"\"\"Extracts the text from a PDF file, ignoring the headers and footers.\u001b[39;00m\n\u001b[0;32m      <a href='vscode-notebook-cell:/p%3A/GP/tryPDFModule.ipynb#W0sZmlsZQ%3D%3D?line=4'>5</a>\u001b[0m \n\u001b[0;32m      <a href='vscode-notebook-cell:/p%3A/GP/tryPDFModule.ipynb#W0sZmlsZQ%3D%3D?line=5'>6</a>\u001b[0m \u001b[39mArgs:\u001b[39;00m\n\u001b[1;32m   (...)\u001b[0m\n\u001b[0;32m     <a href='vscode-notebook-cell:/p%3A/GP/tryPDFModule.ipynb#W0sZmlsZQ%3D%3D?line=9'>10</a>\u001b[0m \u001b[39m  A string containing the extracted text.\u001b[39;00m\n\u001b[0;32m     <a href='vscode-notebook-cell:/p%3A/GP/tryPDFModule.ipynb#W0sZmlsZQ%3D%3D?line=10'>11</a>\u001b[0m \u001b[39m\"\"\"\u001b[39;00m\n\u001b[0;32m     <a href='vscode-notebook-cell:/p%3A/GP/tryPDFModule.ipynb#W0sZmlsZQ%3D%3D?line=12'>13</a>\u001b[0m \u001b[39m# Open the PDF file.\u001b[39;00m\n\u001b[1;32m---> <a href='vscode-notebook-cell:/p%3A/GP/tryPDFModule.ipynb#W0sZmlsZQ%3D%3D?line=13'>14</a>\u001b[0m \u001b[39mwith\u001b[39;00m pdfplumber\u001b[39m.\u001b[39;49mopen(\u001b[39m\"\u001b[39;49m\u001b[39mD:\u001b[39;49m\u001b[39m\\3\u001b[39;49;00m\u001b[39m UNI DOC\u001b[39;49m\u001b[39m\\4\u001b[39;49;00m\u001b[39m Fourth Year SC\u001b[39;49m\u001b[39m\\\u001b[39;49m\u001b[39mGraduation Project\u001b[39;49m\u001b[39m\\\u001b[39;49m\u001b[39mBooks 301 -400\u001b[39;49m\u001b[39m\\\u001b[39;49m\u001b[39mA Christmas Carol.pdf\u001b[39;49m\u001b[39m\"\u001b[39;49m) \u001b[39mas\u001b[39;00m pdf:\n\u001b[0;32m     <a href='vscode-notebook-cell:/p%3A/GP/tryPDFModule.ipynb#W0sZmlsZQ%3D%3D?line=14'>15</a>\u001b[0m \n\u001b[0;32m     <a href='vscode-notebook-cell:/p%3A/GP/tryPDFModule.ipynb#W0sZmlsZQ%3D%3D?line=15'>16</a>\u001b[0m   \u001b[39m# Extract the text from the page, ignoring the headers and footers.\u001b[39;00m\n\u001b[0;32m     <a href='vscode-notebook-cell:/p%3A/GP/tryPDFModule.ipynb#W0sZmlsZQ%3D%3D?line=16'>17</a>\u001b[0m   text \u001b[39m=\u001b[39m pdf\u001b[39m.\u001b[39mpages[\u001b[39m0\u001b[39m]\u001b[39m.\u001b[39mextract_text(ignore_headers_footers\u001b[39m=\u001b[39m\u001b[39mTrue\u001b[39;00m)\n\u001b[0;32m     <a href='vscode-notebook-cell:/p%3A/GP/tryPDFModule.ipynb#W0sZmlsZQ%3D%3D?line=18'>19</a>\u001b[0m   \u001b[39mreturn\u001b[39;00m text\n",
      "File \u001b[1;32mc:\\Users\\George Saeid\\anaconda3\\envs\\Book_Summarization_GP\\Lib\\site-packages\\pdfplumber\\pdf.py:85\u001b[0m, in \u001b[0;36mPDF.open\u001b[1;34m(cls, path_or_fp, pages, laparams, password, strict_metadata, repair, gs_path)\u001b[0m\n\u001b[0;32m     83\u001b[0m     path \u001b[39m=\u001b[39m \u001b[39mNone\u001b[39;00m\n\u001b[0;32m     84\u001b[0m \u001b[39melif\u001b[39;00m \u001b[39misinstance\u001b[39m(path_or_fp, (\u001b[39mstr\u001b[39m, pathlib\u001b[39m.\u001b[39mPath)):\n\u001b[1;32m---> 85\u001b[0m     stream \u001b[39m=\u001b[39m \u001b[39mopen\u001b[39;49m(path_or_fp, \u001b[39m\"\u001b[39;49m\u001b[39mrb\u001b[39;49m\u001b[39m\"\u001b[39;49m)\n\u001b[0;32m     86\u001b[0m     stream_is_external \u001b[39m=\u001b[39m \u001b[39mFalse\u001b[39;00m\n\u001b[0;32m     87\u001b[0m     path \u001b[39m=\u001b[39m pathlib\u001b[39m.\u001b[39mPath(path_or_fp)\n",
      "\u001b[1;31mOSError\u001b[0m: [Errno 22] Invalid argument: 'D:\\x03 UNI DOC\\x04 Fourth Year SC\\\\Graduation Project\\\\Books 301 -400\\\\A Christmas Carol.pdf'"
     ]
    }
   ],
   "source": [
    "import pdfplumber\n",
    "\n",
    "def extract_text_from_pdf(pdf_path):\n",
    "  \"\"\"Extracts the text from a PDF file, ignoring the headers and footers.\n",
    "\n",
    "  Args:\n",
    "    pdf_path: The path to the PDF file.\n",
    "\n",
    "  Returns:\n",
    "    A string containing the extracted text.\n",
    "  \"\"\"\n",
    "\n",
    "  # Open the PDF file.\n",
    "  with pdfplumber.open(\"D:\\3 UNI DOC\\4 Fourth Year SC\\Graduation Project\\Books 301 -400\\A Christmas Carol.pdf\") as pdf:\n",
    "\n",
    "    # Extract the text from the page, ignoring the headers and footers.\n",
    "    text = pdf.pages[0].extract_text(ignore_headers_footers=True)\n",
    "\n",
    "    return text\n",
    "\n",
    "# Extract the text from the PDF file.\n",
    "extracted_text = extract_text_from_pdf('path/to/pdf.pdf')\n",
    "\n",
    "# Print the extracted text.\n",
    "print(extracted_text)\n"
   ]
  }
 ],
 "metadata": {
  "kernelspec": {
   "display_name": "BSumGP",
   "language": "python",
   "name": "bsumgp"
  },
  "language_info": {
   "codemirror_mode": {
    "name": "ipython",
    "version": 3
   },
   "file_extension": ".py",
   "mimetype": "text/x-python",
   "name": "python",
   "nbconvert_exporter": "python",
   "pygments_lexer": "ipython3",
   "version": "3.11.5"
  },
  "orig_nbformat": 4
 },
 "nbformat": 4,
 "nbformat_minor": 2
}
